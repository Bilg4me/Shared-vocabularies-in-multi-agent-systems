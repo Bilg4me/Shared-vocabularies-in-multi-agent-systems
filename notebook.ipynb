{
 "cells": [
  {
   "attachments": {},
   "cell_type": "markdown",
   "metadata": {},
   "source": [
    "# Simulation du Naming Game"
   ]
  },
  {
   "attachments": {},
   "cell_type": "markdown",
   "metadata": {},
   "source": [
    "### Initialisation\n"
   ]
  },
  {
   "cell_type": "code",
   "execution_count": 65,
   "metadata": {},
   "outputs": [],
   "source": [
    "from random import sample, choice\n",
    "import matplotlib.pyplot as plt\n",
    "from itertools import chain\n",
    "from numpy import mean, array"
   ]
  },
  {
   "cell_type": "code",
   "execution_count": 66,
   "metadata": {},
   "outputs": [],
   "source": [
    "# Ouverture du fichier contenant le dictionnaire français (22735 mots)\n",
    "with open(\"liste_francais.txt\", \"r\") as file :\n",
    "    mots = file.readlines()\n",
    "mots = [mot[:-1] for mot in mots]\n",
    "\n",
    "# Inititalisation des variable de la simulation\n",
    "def init(N):\n",
    "    inventaire = { i: set() for i in range(N) }\n",
    "    lexique = []\n",
    "    return inventaire,lexique"
   ]
  },
  {
   "attachments": {},
   "cell_type": "markdown",
   "metadata": {},
   "source": [
    "### Fonctions du modèle"
   ]
  },
  {
   "cell_type": "code",
   "execution_count": 67,
   "metadata": {},
   "outputs": [],
   "source": [
    "\n",
    "# Pour inventer un mot on choisit un mot aléatoirement dans le dictionnaire\n",
    "def invente():\n",
    "    return sample(mots, k=1)[0]\n",
    "\n",
    "# Modélisation d'une interaction entre un \"speaker\" et un \"listener\" conformément  \n",
    "def interaction(inventaire,lexique):\n",
    "    speaker,listener = sample(inventaire.keys(), k = 2)\n",
    "    if not inventaire[speaker] : # inventaire vide\n",
    "        nouveau_mot = invente()\n",
    "        if nouveau_mot not in lexique:\n",
    "            lexique.append(nouveau_mot)\n",
    "        inventaire[speaker].add(nouveau_mot)\n",
    "    intersection = inventaire[listener] & inventaire[speaker]\n",
    "    if not intersection: # pas de mot en commun pour decrire l'objet\n",
    "        inventaire[listener] = inventaire[speaker] | inventaire[listener]\n",
    "        return 0 # Echec\n",
    "    else:\n",
    "        inventaire[speaker] = inventaire[listener] = intersection\n",
    "        return 1 # Succès\n",
    "\n",
    "# On compte le nombre de mot distinct dans l'inventaire\n",
    "def nb_mots_distincs(inventaire):\n",
    "    return len(set(list(chain(*[list(mot) for mot in list(inventaire.values())]))))\n"
   ]
  },
  {
   "attachments": {},
   "cell_type": "markdown",
   "metadata": {},
   "source": [
    "### Plotting function"
   ]
  },
  {
   "cell_type": "code",
   "execution_count": 68,
   "metadata": {},
   "outputs": [],
   "source": [
    "def afficher(N,I, **Y): # Afficher des variables pour un N et un I donnés\n",
    "    x = [x for x in range(I)]\n",
    "    color={ var:\"#\"+''.join([choice('0123456789ABCDEF') for i in range(6)]) for var,val in Y.items() }\n",
    "    \n",
    "    fig, ax = plt.subplots()\n",
    "    for var,val in Y.items():\n",
    "      ax.plot(x, val, color=color[var], label=var)\n",
    "\n",
    "    ax.set(title= 'Evolution de la variable durant {} interactions entre {} agents '.format(I,N),  #Set a title and x-and y-axis labels\n",
    "                ylabel= \"variable\",\n",
    "                xlabel= 'Interactions')\n",
    "    \n",
    "    plt.legend()\n",
    "    plt.show()\n",
    "\n",
    "def afficher2(N, **Y): # Afficher des indicateurs phenoménologique (es, et, Nwtmax) pour une certaines plage de valeurs de N (nbre d'agents) (ici N est une liste)\n",
    "    x = N\n",
    "    color={ var:\"#\"+''.join([choice('0123456789ABCDEF') for i in range(6)]) for var,val in Y.items() }\n",
    "\n",
    "    fig, ax = plt.subplots()\n",
    "    for var,val in Y.items():\n",
    "      ax.plot(x, val, color=color[var], label=var)\n",
    "      plt.yticks(val)\n",
    "\n",
    "    ax.set(title= \"Evolution de {} en fonction du nombre d'agents \".format(\"variable\"),  #Set a title and x-and y-axis labels\n",
    "    ylabel= \"variable\",\n",
    "    xlabel= 'N')\n",
    "\n",
    "    plt.xticks(x)\n",
    "    plt.grid()\n",
    "    plt.legend()\n",
    "    plt.show()\n",
    "   "
   ]
  },
  {
   "attachments": {},
   "cell_type": "markdown",
   "metadata": {},
   "source": [
    "### Simulation et constructions des indicateurs phénoménologique"
   ]
  },
  {
   "cell_type": "code",
   "execution_count": 69,
   "metadata": {},
   "outputs": [],
   "source": [
    "# Simulation pour un N et un I donné pour récupérer des variables d'intérêt \n",
    "\n",
    "def simulation(N,I):\n",
    "\n",
    "    # Initialisation de la simulation\n",
    "    inventaire,lexique = init(N)\n",
    "    es_atteint = False\n",
    "    es = 0\n",
    "    succes = []\n",
    "    mots_inventés = []\n",
    "    mots_distincts = []\n",
    "    \n",
    "    for i in range(I):\n",
    "        \n",
    "        # On declenche une interaction et on met à jours les variables d'intérêt pour notre étude\n",
    "        interaction(inventaire,lexique)\n",
    "        mots_inventés.append(len(lexique))\n",
    "        mots_distincts.append(nb_mots_distincs(inventaire))\n",
    "        \n",
    "        # On cherche a detecter l'etat stationnaire\n",
    "        if not es_atteint and  ( i >= 10 and mots_distincts[-1] == 1 and mots_distincts[-2] != 1 ):\n",
    "            es_atteint = True\n",
    "            es = i\n",
    "\n",
    "    # indicateur phénoménologique caractéristiques du modèle pour un nombre d'agent N donné\n",
    "    nmi = mots_inventés[-1] # nombre de mots inventé au total\n",
    "    \n",
    "    et = mots_inventés.index(nmi) # etat dit \"transitoire\" i.e : quand on atteint le pic de mots distincts qui correspond aussi a l'instant ou on atteint pour la premiere fois le nombre de mots inventé maximal\n",
    "    \n",
    "    afficher(N,I,Nwt = mots_inventés, Ndt=mots_distincts)    \n",
    "    return array(mots_distincts)\n",
    "\n",
    "# et des indicateurs phénoménologique\n",
    "\n",
    "def simulationbis(N,I):\n",
    "\n",
    "    # Initialisation de la simulation\n",
    "    inventaire,lexique = init(N)\n",
    "    es_atteint = False\n",
    "    es = 0\n",
    "    mots_inventés = [0]\n",
    "    mots_distincts = [0]\n",
    "    \n",
    "    for i in range(I-1):\n",
    "        \n",
    "        # On declenche une interaction et on met à jours les variables d'intérêt pour notre étude\n",
    "        interaction(inventaire,lexique)\n",
    "        mots_inventés.append(len(lexique))\n",
    "        mots_distincts.append(nb_mots_distincs(inventaire))\n",
    "        \n",
    "        # On cherche a detecter l'etat stationnaire\n",
    "        if not es_atteint and  ( i >= 10 and mots_distincts[-1] == 1 and mots_distincts[-2] != 1 ):\n",
    "            es_atteint = True\n",
    "            es = i\n",
    "\n",
    "    # indicateur phénoménologique caractéristiques du modèle pour un nombre d'agent N donné\n",
    "    nmi = mots_inventés[-1] # nombre de mots inventé au total\n",
    "    et = mots_inventés.index(nmi) # etat dit \"transitoire\" i.e : quand on atteint le pic de mots distincts qui correspond aussi a l'instant ou on atteint pour la premiere fois le nombre de mots inventé maximal\n",
    "    \n",
    "    return nmi, es, et\n",
    "\n",
    "\n",
    "# Simulation pour un N et un I ainsi qu'un paramètre p qui correspond à la mémoire de notre simulation (ici spécifiquement pour calculer le taux de succès avec une mémoire des p dernières interactions)\n",
    "\n",
    "def simulation2(N,I, p): \n",
    "    # Initialisation\n",
    "    inventaire,lexique = init(N)\n",
    "    succes = [0 for _ in range(p)]\n",
    "    taux_succes = [0 for _ in range(p)]\n",
    "    \n",
    "    for i in range(p,I):\n",
    "        succes.append(interaction(inventaire,lexique))\n",
    "        taux_succes.append(mean(succes[-p:]))\n",
    "\n",
    "\n",
    "\n",
    "    # Affichage graphique (à enlever pour gagner en compléxité pour effectuer un moyennage sur bcp d'execution)\n",
    "\n",
    "    # x = list(range(I))\n",
    "    # fig, ax = plt.subplots()\n",
    "    # print(len(taux_succes))\n",
    "    # ax.plot(x, taux_succes)\n",
    "\n",
    "    # ax.set(title= \"Evolution du taux de succès sur les {} dernières interactions en fonction du temps pour {} agents \".format(p,N),  #Set a title and x-and y-axis labels\n",
    "    # ylabel= \"taux de succès\",\n",
    "    # xlabel= 'interactions (temps)')\n",
    "\n",
    "    # plt.xticks([0, et, es, I-1])\n",
    "    # plt.yticks( [ taux_succes[0], taux_succes[et] , taux_succes[es], taux_succes[-1] ])\n",
    "\n",
    "    # plt.legend()\n",
    "    # plt.show()\n",
    "\n",
    "\n",
    "    return array(taux_succes)\n",
    "\n",
    "def simulation3(N):\n",
    "    nb_mots_inventes = []\n",
    "    etat_stationnaire = []\n",
    "    etat_transition = []\n",
    "    taux_succes_final = []\n",
    "    ecart_et_es = []\n",
    "\n",
    "    for n in N:\n",
    "        nmi, es, et = simulation(n)\n",
    "        nb_mots_inventes.append(nmi)\n",
    "        etat_stationnaire.append(es)\n",
    "        etat_transition.append(et)\n",
    "        ecart_et_es.append(es-et)\n",
    "\n",
    "    afficher2(N, et = etat_transition, es = etat_stationnaire, ecart = ecart_et_es)\n",
    "\n"
   ]
  },
  {
   "attachments": {},
   "cell_type": "markdown",
   "metadata": {},
   "source": [
    "### Simulation moyennée sur plusieurs executions"
   ]
  },
  {
   "cell_type": "code",
   "execution_count": 70,
   "metadata": {},
   "outputs": [],
   "source": [
    "\n",
    "def grande_simulation(p,rep,N):\n",
    "    I = 25*N \n",
    "    #ts = array([0.0 for _ in range(I)])\n",
    "    ts = array([0.0 for _ in range(I)])\n",
    "    for k in range(rep):\n",
    "        #ts += simulation2(N, I, p)\n",
    "        ts += simulation(N, I)\n",
    "\n",
    "    ts /= rep\n",
    "    x = list(range(I))\n",
    "    fig, ax = plt.subplots()\n",
    "\n",
    "    ax.plot(x, ts)\n",
    "\n",
    "    ax.set(title= \"Evolution du nombre de mots distincts en fonction temps pour {} agents moyenné sur {} exécutions\".format(N, rep),  #Set a title and x-and y-axis labels\n",
    "    ylabel= \"Nombre de mots distincts\",\n",
    "    xlabel= 'interactions (temps)')\n",
    "\n",
    "    plt.legend()\n",
    "    plt.show()\n"
   ]
  },
  {
   "cell_type": "code",
   "execution_count": 71,
   "metadata": {},
   "outputs": [
    {
     "name": "stderr",
     "output_type": "stream",
     "text": [
      "C:\\Users\\Bilal\\AppData\\Local\\Temp\\ipykernel_9748\\1615769403.py:7: DeprecationWarning: Sampling from a set deprecated\n",
      "since Python 3.9 and will be removed in a subsequent version.\n",
      "  speaker,listener = sample(inventaire.keys(), k = 2)\n"
     ]
    }
   ],
   "source": [
    "grande_simulation(1000, rep = 10, N= 1000)"
   ]
  }
 ],
 "metadata": {
  "kernelspec": {
   "display_name": "Python 3",
   "language": "python",
   "name": "python3"
  },
  "language_info": {
   "codemirror_mode": {
    "name": "ipython",
    "version": 3
   },
   "file_extension": ".py",
   "mimetype": "text/x-python",
   "name": "python",
   "nbconvert_exporter": "python",
   "pygments_lexer": "ipython3",
   "version": "3.10.6"
  },
  "orig_nbformat": 4
 },
 "nbformat": 4,
 "nbformat_minor": 2
}
